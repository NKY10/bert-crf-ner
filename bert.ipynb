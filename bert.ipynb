{
 "cells": [
  {
   "cell_type": "code",
   "execution_count": 1,
   "metadata": {},
   "outputs": [
    {
     "name": "stderr",
     "output_type": "stream",
     "text": [
      "e:\\envs\\conda\\envs\\ollama\\Lib\\site-packages\\tqdm\\auto.py:21: TqdmWarning: IProgress not found. Please update jupyter and ipywidgets. See https://ipywidgets.readthedocs.io/en/stable/user_install.html\n",
      "  from .autonotebook import tqdm as notebook_tqdm\n",
      "e:\\envs\\conda\\envs\\ollama\\Lib\\site-packages\\transformers\\utils\\generic.py:311: UserWarning: torch.utils._pytree._register_pytree_node is deprecated. Please use torch.utils._pytree.register_pytree_node instead.\n",
      "  torch.utils._pytree._register_pytree_node(\n",
      "e:\\envs\\conda\\envs\\ollama\\Lib\\site-packages\\transformers\\utils\\generic.py:311: UserWarning: torch.utils._pytree._register_pytree_node is deprecated. Please use torch.utils._pytree.register_pytree_node instead.\n",
      "  torch.utils._pytree._register_pytree_node(\n"
     ]
    }
   ],
   "source": [
    "# %%\n",
    "from transformers import BertTokenizer\n",
    "from torch.utils.data import Dataset, DataLoader\n",
    "from modules.NERDataset import NERDataset\n",
    "from modules.BERTCRF import BERTCRF\n",
    "from torch.utils.tensorboard import SummaryWriter\n",
    "from tools.evaluate import evaluate\n",
    "import torch\n"
   ]
  },
  {
   "cell_type": "code",
   "execution_count": 2,
   "metadata": {},
   "outputs": [
    {
     "name": "stdout",
     "output_type": "stream",
     "text": [
      "Using device: cuda\n"
     ]
    }
   ],
   "source": [
    "# %%\n",
    "device = torch.device(\"cuda\" if torch.cuda.is_available() else \"cpu\")\n",
    "\n",
    "# 打印出所选设备的信息\n",
    "print(f\"Using device: {device}\")\n"
   ]
  },
  {
   "cell_type": "code",
   "execution_count": 3,
   "metadata": {},
   "outputs": [
    {
     "name": "stdout",
     "output_type": "stream",
     "text": [
      "Label Map: {'O': 0, 'B-PER.NOM': 1, 'I-PER.NOM': 2, 'B-LOC.NAM': 3, 'I-LOC.NAM': 4, 'B-PER.NAM': 5, 'I-PER.NAM': 6, 'B-GPE.NAM': 7, 'I-GPE.NAM': 8, 'B-ORG.NAM': 9, 'I-ORG.NAM': 10, 'B-ORG.NOM': 11, 'I-ORG.NOM': 12, 'B-LOC.NOM': 13, 'I-LOC.NOM': 14, 'B-GPE.NOM': 15, 'I-GPE.NOM': 16}\n"
     ]
    }
   ],
   "source": [
    "max_len = 180\n",
    "batch_size = 16\n",
    "tokenizer = BertTokenizer.from_pretrained('.\\\\bert-base-chinese')\n",
    "\n",
    "trainset = NERDataset('train.txt', max_len=max_len, tokenizer=tokenizer)\n",
    "train_dataloader = DataLoader(trainset, batch_size=batch_size, shuffle=True)\n",
    "# Check if label_map was created and saved\n",
    "print(\"Label Map:\", trainset.label_map)\n",
    "testset = NERDataset('val.txt', max_len=max_len, tokenizer=tokenizer)\n",
    "test_dataloader = DataLoader(testset, batch_size=batch_size, shuffle=True)\n",
    "# valset = NERDataset('val.txt', label_map_path=\"dataset/val_labels.json\", max_len=max_len)\n",
    "# val_dataloader = DataLoader(valset, batch_size=16, shuffle=True)\n"
   ]
  },
  {
   "cell_type": "code",
   "execution_count": 4,
   "metadata": {},
   "outputs": [],
   "source": [
    "# %%\n",
    "# 加载模型\n",
    "label_map = trainset.label_map\n",
    "model = BERTCRF(num_labels=len(label_map)).to(device)\n"
   ]
  },
  {
   "cell_type": "code",
   "execution_count": 5,
   "metadata": {},
   "outputs": [],
   "source": [
    "# %%\n",
    "# 训练模型\n",
    "from torch import optim\n",
    "optimizer_grouped_parameters = [\n",
    "    {'params': model.crf.parameters(), 'lr': 3e-2},\n",
    "    {'params': model.bert.parameters(), 'lr': 5e-5}\n",
    "]\n",
    "# {'params': model.classifier.parameters(), 'lr': 1e-3},\n",
    "\n",
    "optimizer = optim.AdamW(optimizer_grouped_parameters)\n",
    "\n",
    "# 初始化 TensorBoard\n",
    "writer = SummaryWriter()\n"
   ]
  },
  {
   "cell_type": "code",
   "execution_count": 6,
   "metadata": {},
   "outputs": [
    {
     "name": "stderr",
     "output_type": "stream",
     "text": [
      "epochs:   0%|          | 0/5 [00:00<?, ?it/s]"
     ]
    }
   ],
   "source": [
    "# %%\n",
    "from tqdm.auto import tqdm\n",
    "\n",
    "# ... 其他导入和模型定义 ...\n",
    "\n",
    "# 创建一个tqdm进度条，用于显示训练进度\n",
    "\n",
    "\n",
    "for epoch in tqdm(range(5),desc=\"epochs\"):  \n",
    "    model.train()\n",
    "    total_loss = 0\n",
    "    maxf1 = 0.5\n",
    "    train_dataloader = tqdm(train_dataloader, desc=\"Iteration\")\n",
    "    for step, batch in enumerate(train_dataloader):\n",
    "        optimizer.zero_grad()\n",
    "        # 将数据移动到GPU\n",
    "        input_ids = batch['input_ids'].to(device)\n",
    "        attention_mask = batch['attention_mask'].to(device)\n",
    "        labels = batch['labels'].to(device)\n",
    "        \n",
    "        loss = model(input_ids, attention_mask, labels)\n",
    "        total_loss += loss.item()\n",
    "        loss.backward()\n",
    "        optimizer.step()\n",
    "        # 更新进度条的后缀，显示平均损失\n",
    "        train_dataloader.set_postfix({'loss': '{:.6f}'.format(loss.item())})\n",
    "\n",
    "    avg_train_loss = total_loss / len(train_dataloader)\n",
    "\n",
    "    precision, recall, f1 = evaluate(model, test_dataloader,device=device)\n",
    "\n",
    "    print(f'Epoch {epoch+1}, Loss: {avg_train_loss:.4f}, Precision: {precision:.4f}, Recall: {recall:.4f}, F1: {f1:.4f}')\n",
    "    \n",
    "    # 记录到 TensorBoard\n",
    "    writer.add_scalar('Loss/train', avg_train_loss, epoch)\n",
    "    writer.add_scalar('Precision/val', precision, epoch)\n",
    "    writer.add_scalar('Recall/val', recall, epoch)\n",
    "    writer.add_scalar('F1/val', f1, epoch)\n",
    "    #writer.add_scalar('Accuracy/val', accuracy, epoch)\n",
    "\n",
    "    if f1 > maxf1:\n",
    "        maxf1 = f1\n",
    "        torch.save(model.state_dict(), './model/ner_max_f1.parameters')\n",
    "\n",
    "# 关闭 TensorBoard\n",
    "writer.close()\n"
   ]
  }
 ],
 "metadata": {
  "kernelspec": {
   "display_name": "ollama",
   "language": "python",
   "name": "python3"
  },
  "language_info": {
   "codemirror_mode": {
    "name": "ipython",
    "version": 3
   },
   "file_extension": ".py",
   "mimetype": "text/x-python",
   "name": "python",
   "nbconvert_exporter": "python",
   "pygments_lexer": "ipython3",
   "version": "3.11.9"
  }
 },
 "nbformat": 4,
 "nbformat_minor": 2
}
